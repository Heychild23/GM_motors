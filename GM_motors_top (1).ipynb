{
 "cells": [
  {
   "cell_type": "markdown",
   "id": "50ae548c",
   "metadata": {},
   "source": [
    "## Сбор данных из Drom.ru\n",
    "### Парсим HTML код страниц с обьявлениями о продаже машин. Записываем ссылки на отдельные обявления в файл auto_hrefs_data.txt"
   ]
  },
  {
   "cell_type": "code",
   "execution_count": 3,
   "id": "690505f4",
   "metadata": {},
   "outputs": [
    {
     "name": "stdout",
     "output_type": "stream",
     "text": [
      "https://auto.ru/moskva/cars/used/?body_type_group=COUPE&body_type_group=SEDAN&body_type_group=CABRIO&page=11\n"
     ]
    }
   ],
   "source": [
    "import requests\n",
    "from bs4 import BeautifulSoup\n",
    "\n",
    "headers = {\"user-agent\": \"Mozilla/5.0 (Windows NT 6.1) AppleWebKit/537.36 (KHTML, like Gecko) Chrome/88.0.4324.152 YaBrowser/21.2.2.102 Yowser/2.5 Safari/537.36\"}\n",
    "\n",
    "auto_href_list = []\n",
    "start = 1\n",
    "finish = 100\n",
    "\n",
    "with open('auto_hrefs_data.txt', 'w', encoding=\"utf-8\") as file:\n",
    "    while start < finish:\n",
    "        try:\n",
    "            for page_num in range(start, finish):\n",
    "                url1 = 'https://moscow.drom.ru/auto/used/all/page'\n",
    "                url2 = '/?frametype[]=10&frametype[]=1&frametype[]=11&distance=100'\n",
    "                url = url1 + str(page_num) + url2\n",
    "                response = requests.get(url, headers = headers)\n",
    "                soup = BeautifulSoup(response.text, 'lxml')\n",
    "\n",
    "                divs =  soup.find(\"div\", class_=\"css-1nvf6xk eojktn00\")\n",
    "\n",
    "                hrefs = divs.find_all('a')\n",
    "\n",
    "                for auto in hrefs:\n",
    "\n",
    "                    auto_href = auto.get('href')\n",
    "                    if 'auto/used' not in auto_href:\n",
    "                        print(auto_href)\n",
    "                        file.write(auto_href + '\\n')\n",
    "\n",
    "                if page_num >= finish - 1:\n",
    "                    start = finish\n",
    "        except:\n",
    "            print(url)\n",
    "            start = page_num\n",
    "            if page_num >= finish - 1:\n",
    "                start = finish\n",
    "            \n",
    "            "
   ]
  },
  {
   "cell_type": "markdown",
   "id": "defd5505",
   "metadata": {},
   "source": [
    "### Открываем файл auto_hrefs_data.txt и начинаем по очереди открывать все объявления и записывать нужные данные в файл auto_data.csv"
   ]
  },
  {
   "cell_type": "code",
   "execution_count": 1,
   "id": "2363f368",
   "metadata": {},
   "outputs": [
    {
     "name": "stdout",
     "output_type": "stream",
     "text": [
      "https://moscow.drom.ru/bmw/3-series/50805753.html\n",
      "https://moscow.drom.ru/kia/optima/50813897.html\n",
      "https://moscow.drom.ru/toyota/corolla/50901586.html\n",
      "https://moscow.drom.ru/mazda/mazda3/50907661.html\n",
      "https://moscow.drom.ru/bentley/continental_gt/50674252.html\n",
      "https://moscow.drom.ru/volvo/s80/50602610.html\n",
      "https://moscow.drom.ru/volkswagen/polo/50800419.html\n",
      "https://moscow.drom.ru/toyota/camry/50840628.html\n",
      "https://moscow.drom.ru/kia/rio/50840975.html\n",
      "https://moscow.drom.ru/audi/a6/49207453.html\n",
      "https://moscow.drom.ru/mercedes-benz/e-class/50526059.html\n",
      "https://moscow.drom.ru/kia/optima/50527057.html\n",
      "https://moscow.drom.ru/bmw/3-series/50916277.html\n",
      "https://moscow.drom.ru/genesis/g70/50530736.html\n",
      "https://moscow.drom.ru/volkswagen/polo/50913605.html\n",
      "https://moscow.drom.ru/hyundai/solaris/50534169.html\n",
      "https://moscow.drom.ru/mazda/mazda3/50542874.html\n",
      "https://moscow.drom.ru/kia/k5/50532183.html\n",
      "https://moscow.drom.ru/porsche/taycan/49476442.html\n",
      "https://moscow.drom.ru/kia/rio/50913081.html\n",
      "https://moscow.drom.ru/other/handmade/50911865.html\n",
      "https://fryanovo.drom.ru/lada/2105/50908543.html\n",
      "https://moscow.drom.ru/tesla/model_3/50018949.html\n",
      "https://moscow.drom.ru/toyota/camry/50907748.html\n",
      "https://moscow.drom.ru/hyundai/elantra/50907488.html\n",
      "https://moscow.drom.ru/chevrolet/cruze/50902934.html\n",
      "https://moscow.drom.ru/hyundai/sonata/50902932.html\n",
      "https://moscow.drom.ru/volkswagen/passat/50902931.html\n",
      "https://moscow.drom.ru/kia/optima/50902823.html\n",
      "https://moscow.drom.ru/mercedes-benz/c-class/50529028.html\n",
      "https://moscow.drom.ru/tesla/model_3/50524992.html\n",
      "https://moscow.drom.ru/audi/rs_e-tron_gt/50524969.html\n",
      "https://moscow.drom.ru/tesla/model_3/50133868.html\n",
      "https://moscow.drom.ru/kia/optima/50902385.html\n",
      "https://moscow.drom.ru/toyota/camry/50902071.html\n",
      "https://moscow.drom.ru/audi/a6/50902007.html\n",
      "https://moscow.drom.ru/hyundai/sonata/50901507.html\n",
      "https://moscow.drom.ru/mazda/mazda6/50901464.html\n",
      "https://moscow.drom.ru/subaru/impreza/50516668.html\n",
      "https://moscow.drom.ru/lada/2105/50900856.html\n",
      "https://moscow.drom.ru/volkswagen/polo/50481753.html\n"
     ]
    }
   ],
   "source": [
    "import requests\n",
    "from bs4 import BeautifulSoup\n",
    "\n",
    "headers = {\"user-agent\": \"Mozilla/5.0 (Windows NT 6.1) AppleWebKit/537.36 (KHTML, like Gecko) Chrome/88.0.4324.152 YaBrowser/21.2.2.102 Yowser/2.5 Safari/537.36\"}\n",
    "\n",
    "auto_href_list = []\n",
    "start = 0\n",
    "\n",
    "with open('auto_hrefs_data.txt', 'r') as file:\n",
    "    auto_hrefs = file.readlines()\n",
    "\n",
    "\n",
    "finish = len(auto_hrefs)\n",
    "    \n",
    "with open('auto_data.csv', 'w', encoding=\"cp1251\") as file:\n",
    "    file.write('AutoName;Year;AutoURL;Price;Fuel;EngineCapacity;HorsePower;Mileage')\n",
    "    while start < finish:\n",
    "        try:\n",
    "            for href_num in range(start, finish):\n",
    "\n",
    "                url = auto_hrefs[href_num][:-1]\n",
    "                response_auto = requests.get(url, headers = headers)\n",
    "                soup_auto = BeautifulSoup(response_auto.text, 'lxml')\n",
    "                \n",
    "                auto_data = []\n",
    "                div_price =  soup_auto.find(\"div\", class_=\"css-eazmxc e162wx9x0\")\n",
    "                if div_price is not None:\n",
    "                    price_l = div_price.get_text().split()\n",
    "                    price = ''.join(price_l[:-1])\n",
    "\n",
    "                    # имя\n",
    "                    auto_name =  soup_auto.find(\"span\", class_=\"css-1kb7l9z e162wx9x0\")\n",
    "                    auto_name_list = auto_name.get_text().split(', ')\n",
    "                    auto_data.append(auto_name_list[0].replace('Продажа ', ''))\n",
    "\n",
    "                    # Год    \n",
    "                    auto_data.append(auto_name_list[1][:4])\n",
    "\n",
    "                    # Ссылка\n",
    "                    auto_data.append(url)\n",
    "\n",
    "                    # Цена\n",
    "                    auto_data.append(price)\n",
    "\n",
    "                    table_TTX =  soup_auto.find(\"table\", class_=\"css-xalqz7 eppj3wm0\")\n",
    "                    table_TTX_body = table_TTX.tbody\n",
    "\n",
    "                    # Двигатель\n",
    "                    dviglo = table_TTX_body.find(\"span\", class_=\"css-1jygg09 e162wx9x0\").get_text()\n",
    "\n",
    "                    ## тип топлива\n",
    "                    dviglo_list = dviglo.split(', ')\n",
    "                    auto_data.append(dviglo_list[0])\n",
    "\n",
    "                    # Мощность\n",
    "                    power = table_TTX_body.find(\"span\", class_=\"css-9g0qum e162wx9x0\").get_text()\n",
    "                    auto_data.append(power.split()[0])\n",
    "\n",
    "                    # Пробег\n",
    "                    probeg = table_TTX_body.find(\"span\", class_=\"css-1osyw3j ei6iaw00\").get_text()\n",
    "                    auto_data.append(''.join(probeg.split()))\n",
    "\n",
    "                    auto_data1 = ';'.join(auto_data)\n",
    "                    \n",
    "                    file.write(auto_data1 + '\\n')\n",
    "\n",
    "                if href_num >= finish - 1:\n",
    "                    start = finish\n",
    "        except:\n",
    "            print(url)\n",
    "            start = href_num +1\n",
    "            if href_num >= finish - 1:\n",
    "                start = finish\n",
    "            \n",
    "            "
   ]
  },
  {
   "cell_type": "markdown",
   "id": "ae818e27",
   "metadata": {},
   "source": [
    "## Предварительныя обработка"
   ]
  },
  {
   "cell_type": "code",
   "execution_count": 1,
   "id": "ade9efa4",
   "metadata": {},
   "outputs": [],
   "source": [
    "import pandas as pd\n",
    "import numpy as np\n",
    "import matplotlib.pyplot as plt\n",
    "%matplotlib inline\n",
    "\n",
    "plt.style.use('ggplot')  # стиль для графиков\n",
    "\n",
    "import seaborn as sns"
   ]
  },
  {
   "cell_type": "code",
   "execution_count": 2,
   "id": "369b8b3b",
   "metadata": {},
   "outputs": [
    {
     "data": {
      "text/html": [
       "<div>\n",
       "<style scoped>\n",
       "    .dataframe tbody tr th:only-of-type {\n",
       "        vertical-align: middle;\n",
       "    }\n",
       "\n",
       "    .dataframe tbody tr th {\n",
       "        vertical-align: top;\n",
       "    }\n",
       "\n",
       "    .dataframe thead th {\n",
       "        text-align: right;\n",
       "    }\n",
       "</style>\n",
       "<table border=\"1\" class=\"dataframe\">\n",
       "  <thead>\n",
       "    <tr style=\"text-align: right;\">\n",
       "      <th></th>\n",
       "      <th>Auto_Name</th>\n",
       "      <th>Year</th>\n",
       "      <th>Auto_URL</th>\n",
       "      <th>Price</th>\n",
       "      <th>Fuel</th>\n",
       "      <th>HorsePower</th>\n",
       "      <th>Mileage</th>\n",
       "    </tr>\n",
       "  </thead>\n",
       "  <tbody>\n",
       "    <tr>\n",
       "      <th>0</th>\n",
       "      <td>Лада 2107</td>\n",
       "      <td>2008</td>\n",
       "      <td>https://pushkino.drom.ru/lada/2107/50899875.html</td>\n",
       "      <td>45000</td>\n",
       "      <td>бензин</td>\n",
       "      <td>76</td>\n",
       "      <td>55858</td>\n",
       "    </tr>\n",
       "    <tr>\n",
       "      <th>1</th>\n",
       "      <td>Москвич 403</td>\n",
       "      <td>1963</td>\n",
       "      <td>https://moscow.drom.ru/moskvitch/403/50130207....</td>\n",
       "      <td>47000</td>\n",
       "      <td>бензин</td>\n",
       "      <td>45</td>\n",
       "      <td>25380</td>\n",
       "    </tr>\n",
       "    <tr>\n",
       "      <th>2</th>\n",
       "      <td>Лада 2105</td>\n",
       "      <td>2003</td>\n",
       "      <td>https://moscow.drom.ru/lada/2105/50918627.html</td>\n",
       "      <td>47000</td>\n",
       "      <td>бензин</td>\n",
       "      <td>71</td>\n",
       "      <td>50000</td>\n",
       "    </tr>\n",
       "    <tr>\n",
       "      <th>3</th>\n",
       "      <td>Лада 2115 Самара</td>\n",
       "      <td>2003</td>\n",
       "      <td>https://chehov.drom.ru/lada/2115/50146925.html</td>\n",
       "      <td>49000</td>\n",
       "      <td>бензин</td>\n",
       "      <td>76</td>\n",
       "      <td>200000</td>\n",
       "    </tr>\n",
       "    <tr>\n",
       "      <th>4</th>\n",
       "      <td>Лада 21099</td>\n",
       "      <td>2002</td>\n",
       "      <td>https://korolev.drom.ru/lada/21099/50913242.html</td>\n",
       "      <td>50000</td>\n",
       "      <td>бензин</td>\n",
       "      <td>78</td>\n",
       "      <td>145000</td>\n",
       "    </tr>\n",
       "  </tbody>\n",
       "</table>\n",
       "</div>"
      ],
      "text/plain": [
       "          Auto_Name  Year                                           Auto_URL  \\\n",
       "0         Лада 2107  2008   https://pushkino.drom.ru/lada/2107/50899875.html   \n",
       "1       Москвич 403  1963  https://moscow.drom.ru/moskvitch/403/50130207....   \n",
       "2         Лада 2105  2003     https://moscow.drom.ru/lada/2105/50918627.html   \n",
       "3  Лада 2115 Самара  2003     https://chehov.drom.ru/lada/2115/50146925.html   \n",
       "4        Лада 21099  2002   https://korolev.drom.ru/lada/21099/50913242.html   \n",
       "\n",
       "   Price    Fuel  HorsePower Mileage  \n",
       "0  45000  бензин          76   55858  \n",
       "1  47000  бензин          45   25380  \n",
       "2  47000  бензин          71   50000  \n",
       "3  49000  бензин          76  200000  \n",
       "4  50000  бензин          78  145000  "
      ]
     },
     "execution_count": 2,
     "metadata": {},
     "output_type": "execute_result"
    }
   ],
   "source": [
    "df = pd.read_csv(\"auto_data.csv\", encoding = \"cp1251\", sep=';', comment='#')\n",
    "df.head()"
   ]
  },
  {
   "cell_type": "markdown",
   "id": "b48ff888",
   "metadata": {},
   "source": [
    "### Типы данных в каждом из столбцов"
   ]
  },
  {
   "cell_type": "code",
   "execution_count": 3,
   "id": "a6e9e572",
   "metadata": {},
   "outputs": [
    {
     "data": {
      "text/plain": [
       "Auto_Name     object\n",
       "Year           int64\n",
       "Auto_URL      object\n",
       "Price          int64\n",
       "Fuel          object\n",
       "HorsePower     int64\n",
       "Mileage       object\n",
       "dtype: object"
      ]
     },
     "execution_count": 3,
     "metadata": {},
     "output_type": "execute_result"
    }
   ],
   "source": [
    "df.dtypes"
   ]
  },
  {
   "cell_type": "markdown",
   "id": "8da5e601",
   "metadata": {},
   "source": [
    "### Информация о пропусках в каждом из столбцов"
   ]
  },
  {
   "cell_type": "code",
   "execution_count": 4,
   "id": "972a409d",
   "metadata": {},
   "outputs": [
    {
     "data": {
      "text/plain": [
       "Auto_Name     0\n",
       "Year          0\n",
       "Auto_URL      0\n",
       "Price         0\n",
       "Fuel          0\n",
       "HorsePower    0\n",
       "Mileage       0\n",
       "dtype: int64"
      ]
     },
     "execution_count": 4,
     "metadata": {},
     "output_type": "execute_result"
    }
   ],
   "source": [
    "df.isnull().sum()"
   ]
  },
  {
   "cell_type": "markdown",
   "id": "e225d233",
   "metadata": {},
   "source": [
    "### Mileage - Пробег нужно перевести в тип данных int64, на данный момент он в статусе object из за строк где есть записи типа: \"хххх,безпробегапоРФ\". На основе этого поля можно создать новый признак с информацией о пробеге в РФ или нет\n"
   ]
  },
  {
   "cell_type": "code",
   "execution_count": 5,
   "id": "15b35344",
   "metadata": {},
   "outputs": [],
   "source": [
    "df['MileageType'] = np.where('безпробегапоРФ' in df['Mileage'], 'Без пробега по РФ', 'C пробега по РФ')"
   ]
  },
  {
   "cell_type": "code",
   "execution_count": 6,
   "id": "a47df8eb",
   "metadata": {},
   "outputs": [
    {
     "data": {
      "text/html": [
       "<div>\n",
       "<style scoped>\n",
       "    .dataframe tbody tr th:only-of-type {\n",
       "        vertical-align: middle;\n",
       "    }\n",
       "\n",
       "    .dataframe tbody tr th {\n",
       "        vertical-align: top;\n",
       "    }\n",
       "\n",
       "    .dataframe thead th {\n",
       "        text-align: right;\n",
       "    }\n",
       "</style>\n",
       "<table border=\"1\" class=\"dataframe\">\n",
       "  <thead>\n",
       "    <tr style=\"text-align: right;\">\n",
       "      <th></th>\n",
       "      <th>Auto_Name</th>\n",
       "      <th>Year</th>\n",
       "      <th>Auto_URL</th>\n",
       "      <th>Price</th>\n",
       "      <th>Fuel</th>\n",
       "      <th>HorsePower</th>\n",
       "      <th>Mileage</th>\n",
       "      <th>MileageType</th>\n",
       "    </tr>\n",
       "  </thead>\n",
       "  <tbody>\n",
       "    <tr>\n",
       "      <th>0</th>\n",
       "      <td>Лада 2107</td>\n",
       "      <td>2008</td>\n",
       "      <td>https://pushkino.drom.ru/lada/2107/50899875.html</td>\n",
       "      <td>45000</td>\n",
       "      <td>бензин</td>\n",
       "      <td>76</td>\n",
       "      <td>55858</td>\n",
       "      <td>C пробега по РФ</td>\n",
       "    </tr>\n",
       "    <tr>\n",
       "      <th>1</th>\n",
       "      <td>Москвич 403</td>\n",
       "      <td>1963</td>\n",
       "      <td>https://moscow.drom.ru/moskvitch/403/50130207....</td>\n",
       "      <td>47000</td>\n",
       "      <td>бензин</td>\n",
       "      <td>45</td>\n",
       "      <td>25380</td>\n",
       "      <td>C пробега по РФ</td>\n",
       "    </tr>\n",
       "    <tr>\n",
       "      <th>2</th>\n",
       "      <td>Лада 2105</td>\n",
       "      <td>2003</td>\n",
       "      <td>https://moscow.drom.ru/lada/2105/50918627.html</td>\n",
       "      <td>47000</td>\n",
       "      <td>бензин</td>\n",
       "      <td>71</td>\n",
       "      <td>50000</td>\n",
       "      <td>C пробега по РФ</td>\n",
       "    </tr>\n",
       "    <tr>\n",
       "      <th>3</th>\n",
       "      <td>Лада 2115 Самара</td>\n",
       "      <td>2003</td>\n",
       "      <td>https://chehov.drom.ru/lada/2115/50146925.html</td>\n",
       "      <td>49000</td>\n",
       "      <td>бензин</td>\n",
       "      <td>76</td>\n",
       "      <td>200000</td>\n",
       "      <td>C пробега по РФ</td>\n",
       "    </tr>\n",
       "    <tr>\n",
       "      <th>4</th>\n",
       "      <td>Лада 21099</td>\n",
       "      <td>2002</td>\n",
       "      <td>https://korolev.drom.ru/lada/21099/50913242.html</td>\n",
       "      <td>50000</td>\n",
       "      <td>бензин</td>\n",
       "      <td>78</td>\n",
       "      <td>145000</td>\n",
       "      <td>C пробега по РФ</td>\n",
       "    </tr>\n",
       "  </tbody>\n",
       "</table>\n",
       "</div>"
      ],
      "text/plain": [
       "          Auto_Name  Year                                           Auto_URL  \\\n",
       "0         Лада 2107  2008   https://pushkino.drom.ru/lada/2107/50899875.html   \n",
       "1       Москвич 403  1963  https://moscow.drom.ru/moskvitch/403/50130207....   \n",
       "2         Лада 2105  2003     https://moscow.drom.ru/lada/2105/50918627.html   \n",
       "3  Лада 2115 Самара  2003     https://chehov.drom.ru/lada/2115/50146925.html   \n",
       "4        Лада 21099  2002   https://korolev.drom.ru/lada/21099/50913242.html   \n",
       "\n",
       "   Price    Fuel  HorsePower Mileage      MileageType  \n",
       "0  45000  бензин          76   55858  C пробега по РФ  \n",
       "1  47000  бензин          45   25380  C пробега по РФ  \n",
       "2  47000  бензин          71   50000  C пробега по РФ  \n",
       "3  49000  бензин          76  200000  C пробега по РФ  \n",
       "4  50000  бензин          78  145000  C пробега по РФ  "
      ]
     },
     "execution_count": 6,
     "metadata": {},
     "output_type": "execute_result"
    }
   ],
   "source": [
    "df.head()"
   ]
  },
  {
   "cell_type": "markdown",
   "id": "eeb15f3d",
   "metadata": {},
   "source": [
    "### Удаляем хвосты с, без пробега по РФ и переводим в в тип int64"
   ]
  },
  {
   "cell_type": "code",
   "execution_count": 7,
   "id": "b422916e",
   "metadata": {},
   "outputs": [],
   "source": [
    "df['Mileage'] = df['Mileage'].str.replace(',безпробегапоРФ', '')"
   ]
  },
  {
   "cell_type": "code",
   "execution_count": 8,
   "id": "6d27f17d",
   "metadata": {},
   "outputs": [
    {
     "data": {
      "text/html": [
       "<div>\n",
       "<style scoped>\n",
       "    .dataframe tbody tr th:only-of-type {\n",
       "        vertical-align: middle;\n",
       "    }\n",
       "\n",
       "    .dataframe tbody tr th {\n",
       "        vertical-align: top;\n",
       "    }\n",
       "\n",
       "    .dataframe thead th {\n",
       "        text-align: right;\n",
       "    }\n",
       "</style>\n",
       "<table border=\"1\" class=\"dataframe\">\n",
       "  <thead>\n",
       "    <tr style=\"text-align: right;\">\n",
       "      <th></th>\n",
       "      <th>Auto_Name</th>\n",
       "      <th>Year</th>\n",
       "      <th>Auto_URL</th>\n",
       "      <th>Price</th>\n",
       "      <th>Fuel</th>\n",
       "      <th>HorsePower</th>\n",
       "      <th>Mileage</th>\n",
       "      <th>MileageType</th>\n",
       "    </tr>\n",
       "  </thead>\n",
       "  <tbody>\n",
       "    <tr>\n",
       "      <th>0</th>\n",
       "      <td>Лада 2107</td>\n",
       "      <td>2008</td>\n",
       "      <td>https://pushkino.drom.ru/lada/2107/50899875.html</td>\n",
       "      <td>45000</td>\n",
       "      <td>бензин</td>\n",
       "      <td>76</td>\n",
       "      <td>55858</td>\n",
       "      <td>C пробега по РФ</td>\n",
       "    </tr>\n",
       "    <tr>\n",
       "      <th>1</th>\n",
       "      <td>Москвич 403</td>\n",
       "      <td>1963</td>\n",
       "      <td>https://moscow.drom.ru/moskvitch/403/50130207....</td>\n",
       "      <td>47000</td>\n",
       "      <td>бензин</td>\n",
       "      <td>45</td>\n",
       "      <td>25380</td>\n",
       "      <td>C пробега по РФ</td>\n",
       "    </tr>\n",
       "    <tr>\n",
       "      <th>2</th>\n",
       "      <td>Лада 2105</td>\n",
       "      <td>2003</td>\n",
       "      <td>https://moscow.drom.ru/lada/2105/50918627.html</td>\n",
       "      <td>47000</td>\n",
       "      <td>бензин</td>\n",
       "      <td>71</td>\n",
       "      <td>50000</td>\n",
       "      <td>C пробега по РФ</td>\n",
       "    </tr>\n",
       "    <tr>\n",
       "      <th>3</th>\n",
       "      <td>Лада 2115 Самара</td>\n",
       "      <td>2003</td>\n",
       "      <td>https://chehov.drom.ru/lada/2115/50146925.html</td>\n",
       "      <td>49000</td>\n",
       "      <td>бензин</td>\n",
       "      <td>76</td>\n",
       "      <td>200000</td>\n",
       "      <td>C пробега по РФ</td>\n",
       "    </tr>\n",
       "    <tr>\n",
       "      <th>4</th>\n",
       "      <td>Лада 21099</td>\n",
       "      <td>2002</td>\n",
       "      <td>https://korolev.drom.ru/lada/21099/50913242.html</td>\n",
       "      <td>50000</td>\n",
       "      <td>бензин</td>\n",
       "      <td>78</td>\n",
       "      <td>145000</td>\n",
       "      <td>C пробега по РФ</td>\n",
       "    </tr>\n",
       "  </tbody>\n",
       "</table>\n",
       "</div>"
      ],
      "text/plain": [
       "          Auto_Name  Year                                           Auto_URL  \\\n",
       "0         Лада 2107  2008   https://pushkino.drom.ru/lada/2107/50899875.html   \n",
       "1       Москвич 403  1963  https://moscow.drom.ru/moskvitch/403/50130207....   \n",
       "2         Лада 2105  2003     https://moscow.drom.ru/lada/2105/50918627.html   \n",
       "3  Лада 2115 Самара  2003     https://chehov.drom.ru/lada/2115/50146925.html   \n",
       "4        Лада 21099  2002   https://korolev.drom.ru/lada/21099/50913242.html   \n",
       "\n",
       "   Price    Fuel  HorsePower Mileage      MileageType  \n",
       "0  45000  бензин          76   55858  C пробега по РФ  \n",
       "1  47000  бензин          45   25380  C пробега по РФ  \n",
       "2  47000  бензин          71   50000  C пробега по РФ  \n",
       "3  49000  бензин          76  200000  C пробега по РФ  \n",
       "4  50000  бензин          78  145000  C пробега по РФ  "
      ]
     },
     "execution_count": 8,
     "metadata": {},
     "output_type": "execute_result"
    }
   ],
   "source": [
    "df.head()"
   ]
  },
  {
   "cell_type": "code",
   "execution_count": 9,
   "id": "16177e8d",
   "metadata": {},
   "outputs": [],
   "source": [
    "df['Mileage'] = df['Mileage'].astype('int64')"
   ]
  },
  {
   "cell_type": "code",
   "execution_count": 10,
   "id": "ba9cf43e",
   "metadata": {},
   "outputs": [
    {
     "data": {
      "text/html": [
       "<div>\n",
       "<style scoped>\n",
       "    .dataframe tbody tr th:only-of-type {\n",
       "        vertical-align: middle;\n",
       "    }\n",
       "\n",
       "    .dataframe tbody tr th {\n",
       "        vertical-align: top;\n",
       "    }\n",
       "\n",
       "    .dataframe thead th {\n",
       "        text-align: right;\n",
       "    }\n",
       "</style>\n",
       "<table border=\"1\" class=\"dataframe\">\n",
       "  <thead>\n",
       "    <tr style=\"text-align: right;\">\n",
       "      <th></th>\n",
       "      <th>Auto_Name</th>\n",
       "      <th>Year</th>\n",
       "      <th>Auto_URL</th>\n",
       "      <th>Price</th>\n",
       "      <th>Fuel</th>\n",
       "      <th>HorsePower</th>\n",
       "      <th>Mileage</th>\n",
       "      <th>MileageType</th>\n",
       "    </tr>\n",
       "  </thead>\n",
       "  <tbody>\n",
       "    <tr>\n",
       "      <th>0</th>\n",
       "      <td>Лада 2107</td>\n",
       "      <td>2008</td>\n",
       "      <td>https://pushkino.drom.ru/lada/2107/50899875.html</td>\n",
       "      <td>45000</td>\n",
       "      <td>бензин</td>\n",
       "      <td>76</td>\n",
       "      <td>55858</td>\n",
       "      <td>C пробега по РФ</td>\n",
       "    </tr>\n",
       "    <tr>\n",
       "      <th>1</th>\n",
       "      <td>Москвич 403</td>\n",
       "      <td>1963</td>\n",
       "      <td>https://moscow.drom.ru/moskvitch/403/50130207....</td>\n",
       "      <td>47000</td>\n",
       "      <td>бензин</td>\n",
       "      <td>45</td>\n",
       "      <td>25380</td>\n",
       "      <td>C пробега по РФ</td>\n",
       "    </tr>\n",
       "    <tr>\n",
       "      <th>2</th>\n",
       "      <td>Лада 2105</td>\n",
       "      <td>2003</td>\n",
       "      <td>https://moscow.drom.ru/lada/2105/50918627.html</td>\n",
       "      <td>47000</td>\n",
       "      <td>бензин</td>\n",
       "      <td>71</td>\n",
       "      <td>50000</td>\n",
       "      <td>C пробега по РФ</td>\n",
       "    </tr>\n",
       "    <tr>\n",
       "      <th>3</th>\n",
       "      <td>Лада 2115 Самара</td>\n",
       "      <td>2003</td>\n",
       "      <td>https://chehov.drom.ru/lada/2115/50146925.html</td>\n",
       "      <td>49000</td>\n",
       "      <td>бензин</td>\n",
       "      <td>76</td>\n",
       "      <td>200000</td>\n",
       "      <td>C пробега по РФ</td>\n",
       "    </tr>\n",
       "    <tr>\n",
       "      <th>4</th>\n",
       "      <td>Лада 21099</td>\n",
       "      <td>2002</td>\n",
       "      <td>https://korolev.drom.ru/lada/21099/50913242.html</td>\n",
       "      <td>50000</td>\n",
       "      <td>бензин</td>\n",
       "      <td>78</td>\n",
       "      <td>145000</td>\n",
       "      <td>C пробега по РФ</td>\n",
       "    </tr>\n",
       "  </tbody>\n",
       "</table>\n",
       "</div>"
      ],
      "text/plain": [
       "          Auto_Name  Year                                           Auto_URL  \\\n",
       "0         Лада 2107  2008   https://pushkino.drom.ru/lada/2107/50899875.html   \n",
       "1       Москвич 403  1963  https://moscow.drom.ru/moskvitch/403/50130207....   \n",
       "2         Лада 2105  2003     https://moscow.drom.ru/lada/2105/50918627.html   \n",
       "3  Лада 2115 Самара  2003     https://chehov.drom.ru/lada/2115/50146925.html   \n",
       "4        Лада 21099  2002   https://korolev.drom.ru/lada/21099/50913242.html   \n",
       "\n",
       "   Price    Fuel  HorsePower  Mileage      MileageType  \n",
       "0  45000  бензин          76    55858  C пробега по РФ  \n",
       "1  47000  бензин          45    25380  C пробега по РФ  \n",
       "2  47000  бензин          71    50000  C пробега по РФ  \n",
       "3  49000  бензин          76   200000  C пробега по РФ  \n",
       "4  50000  бензин          78   145000  C пробега по РФ  "
      ]
     },
     "execution_count": 10,
     "metadata": {},
     "output_type": "execute_result"
    }
   ],
   "source": [
    "df.head()"
   ]
  },
  {
   "cell_type": "code",
   "execution_count": 11,
   "id": "debda1e7",
   "metadata": {},
   "outputs": [
    {
     "data": {
      "text/html": [
       "<div>\n",
       "<style scoped>\n",
       "    .dataframe tbody tr th:only-of-type {\n",
       "        vertical-align: middle;\n",
       "    }\n",
       "\n",
       "    .dataframe tbody tr th {\n",
       "        vertical-align: top;\n",
       "    }\n",
       "\n",
       "    .dataframe thead th {\n",
       "        text-align: right;\n",
       "    }\n",
       "</style>\n",
       "<table border=\"1\" class=\"dataframe\">\n",
       "  <thead>\n",
       "    <tr style=\"text-align: right;\">\n",
       "      <th></th>\n",
       "      <th>Auto_Name</th>\n",
       "      <th>Year</th>\n",
       "      <th>Auto_URL</th>\n",
       "      <th>Price</th>\n",
       "      <th>Fuel</th>\n",
       "      <th>HorsePower</th>\n",
       "      <th>Mileage</th>\n",
       "      <th>MileageType</th>\n",
       "    </tr>\n",
       "  </thead>\n",
       "  <tbody>\n",
       "    <tr>\n",
       "      <th>938</th>\n",
       "      <td>Mercedes-Benz S-Class</td>\n",
       "      <td>2021</td>\n",
       "      <td>https://moscow.drom.ru/mercedes-benz/s-class/5...</td>\n",
       "      <td>12800000</td>\n",
       "      <td>дизель</td>\n",
       "      <td>249</td>\n",
       "      <td>12000</td>\n",
       "      <td>C пробега по РФ</td>\n",
       "    </tr>\n",
       "    <tr>\n",
       "      <th>939</th>\n",
       "      <td>Audi A8</td>\n",
       "      <td>2021</td>\n",
       "      <td>https://moscow.drom.ru/audi/a8/49869591.html</td>\n",
       "      <td>14165116</td>\n",
       "      <td>бензин</td>\n",
       "      <td>460</td>\n",
       "      <td>20400</td>\n",
       "      <td>C пробега по РФ</td>\n",
       "    </tr>\n",
       "    <tr>\n",
       "      <th>940</th>\n",
       "      <td>Audi R8</td>\n",
       "      <td>2020</td>\n",
       "      <td>https://moscow.drom.ru/audi/r8/50909580.html</td>\n",
       "      <td>15300000</td>\n",
       "      <td>бензин</td>\n",
       "      <td>620</td>\n",
       "      <td>30000</td>\n",
       "      <td>C пробега по РФ</td>\n",
       "    </tr>\n",
       "    <tr>\n",
       "      <th>941</th>\n",
       "      <td>Mercedes-Benz S-Class</td>\n",
       "      <td>2022</td>\n",
       "      <td>https://moscow.drom.ru/mercedes-benz/s-class/5...</td>\n",
       "      <td>16290000</td>\n",
       "      <td>бензин</td>\n",
       "      <td>503</td>\n",
       "      <td>18000</td>\n",
       "      <td>C пробега по РФ</td>\n",
       "    </tr>\n",
       "    <tr>\n",
       "      <th>942</th>\n",
       "      <td>Mercedes-Benz S-Class</td>\n",
       "      <td>2022</td>\n",
       "      <td>https://moscow.drom.ru/mercedes-benz/s-class/5...</td>\n",
       "      <td>24500000</td>\n",
       "      <td>бензин</td>\n",
       "      <td>503</td>\n",
       "      <td>21</td>\n",
       "      <td>C пробега по РФ</td>\n",
       "    </tr>\n",
       "  </tbody>\n",
       "</table>\n",
       "</div>"
      ],
      "text/plain": [
       "                 Auto_Name  Year  \\\n",
       "938  Mercedes-Benz S-Class  2021   \n",
       "939                Audi A8  2021   \n",
       "940                Audi R8  2020   \n",
       "941  Mercedes-Benz S-Class  2022   \n",
       "942  Mercedes-Benz S-Class  2022   \n",
       "\n",
       "                                              Auto_URL     Price    Fuel  \\\n",
       "938  https://moscow.drom.ru/mercedes-benz/s-class/5...  12800000  дизель   \n",
       "939       https://moscow.drom.ru/audi/a8/49869591.html  14165116  бензин   \n",
       "940       https://moscow.drom.ru/audi/r8/50909580.html  15300000  бензин   \n",
       "941  https://moscow.drom.ru/mercedes-benz/s-class/5...  16290000  бензин   \n",
       "942  https://moscow.drom.ru/mercedes-benz/s-class/5...  24500000  бензин   \n",
       "\n",
       "     HorsePower  Mileage      MileageType  \n",
       "938         249    12000  C пробега по РФ  \n",
       "939         460    20400  C пробега по РФ  \n",
       "940         620    30000  C пробега по РФ  \n",
       "941         503    18000  C пробега по РФ  \n",
       "942         503       21  C пробега по РФ  "
      ]
     },
     "execution_count": 11,
     "metadata": {},
     "output_type": "execute_result"
    }
   ],
   "source": [
    "df.tail()"
   ]
  },
  {
   "cell_type": "code",
   "execution_count": null,
   "id": "2b8890bf",
   "metadata": {},
   "outputs": [],
   "source": []
  },
  {
   "cell_type": "code",
   "execution_count": 13,
   "id": "678953c4",
   "metadata": {},
   "outputs": [
    {
     "data": {
      "text/plain": [
       "Auto_Name      object\n",
       "Year            int64\n",
       "Auto_URL       object\n",
       "Price           int64\n",
       "Fuel           object\n",
       "HorsePower      int64\n",
       "Mileage         int64\n",
       "MileageType    object\n",
       "dtype: object"
      ]
     },
     "execution_count": 13,
     "metadata": {},
     "output_type": "execute_result"
    }
   ],
   "source": [
    "df.dtypes"
   ]
  },
  {
   "cell_type": "code",
   "execution_count": 14,
   "id": "cb376942",
   "metadata": {},
   "outputs": [
    {
     "name": "stdout",
     "output_type": "stream",
     "text": [
      "<class 'pandas.core.frame.DataFrame'>\n",
      "RangeIndex: 943 entries, 0 to 942\n",
      "Data columns (total 8 columns):\n",
      " #   Column       Non-Null Count  Dtype \n",
      "---  ------       --------------  ----- \n",
      " 0   Auto_Name    943 non-null    object\n",
      " 1   Year         943 non-null    int64 \n",
      " 2   Auto_URL     943 non-null    object\n",
      " 3   Price        943 non-null    int64 \n",
      " 4   Fuel         943 non-null    object\n",
      " 5   HorsePower   943 non-null    int64 \n",
      " 6   Mileage      943 non-null    int64 \n",
      " 7   MileageType  943 non-null    object\n",
      "dtypes: int64(4), object(4)\n",
      "memory usage: 59.1+ KB\n"
     ]
    }
   ],
   "source": [
    "df.info()"
   ]
  },
  {
   "cell_type": "code",
   "execution_count": 15,
   "id": "bea05679",
   "metadata": {},
   "outputs": [
    {
     "name": "stderr",
     "output_type": "stream",
     "text": [
      "C:\\Users\\karle\\AppData\\Local\\Temp/ipykernel_11648/3211851552.py:1: DeprecationWarning: `np.object` is a deprecated alias for the builtin `object`. To silence this warning, use `object` by itself. Doing this will not modify any behavior and is safe. \n",
      "Deprecated in NumPy 1.20; for more details and guidance: https://numpy.org/devdocs/release/1.20.0-notes.html#deprecations\n",
      "  df.describe(include=np.object)\n"
     ]
    },
    {
     "data": {
      "text/html": [
       "<div>\n",
       "<style scoped>\n",
       "    .dataframe tbody tr th:only-of-type {\n",
       "        vertical-align: middle;\n",
       "    }\n",
       "\n",
       "    .dataframe tbody tr th {\n",
       "        vertical-align: top;\n",
       "    }\n",
       "\n",
       "    .dataframe thead th {\n",
       "        text-align: right;\n",
       "    }\n",
       "</style>\n",
       "<table border=\"1\" class=\"dataframe\">\n",
       "  <thead>\n",
       "    <tr style=\"text-align: right;\">\n",
       "      <th></th>\n",
       "      <th>Auto_Name</th>\n",
       "      <th>Auto_URL</th>\n",
       "      <th>Fuel</th>\n",
       "      <th>MileageType</th>\n",
       "    </tr>\n",
       "  </thead>\n",
       "  <tbody>\n",
       "    <tr>\n",
       "      <th>count</th>\n",
       "      <td>943</td>\n",
       "      <td>943</td>\n",
       "      <td>943</td>\n",
       "      <td>943</td>\n",
       "    </tr>\n",
       "    <tr>\n",
       "      <th>unique</th>\n",
       "      <td>169</td>\n",
       "      <td>943</td>\n",
       "      <td>2</td>\n",
       "      <td>1</td>\n",
       "    </tr>\n",
       "    <tr>\n",
       "      <th>top</th>\n",
       "      <td>Volkswagen Polo</td>\n",
       "      <td>https://pushkino.drom.ru/lada/2107/50899875.html</td>\n",
       "      <td>бензин</td>\n",
       "      <td>C пробега по РФ</td>\n",
       "    </tr>\n",
       "    <tr>\n",
       "      <th>freq</th>\n",
       "      <td>63</td>\n",
       "      <td>1</td>\n",
       "      <td>881</td>\n",
       "      <td>943</td>\n",
       "    </tr>\n",
       "  </tbody>\n",
       "</table>\n",
       "</div>"
      ],
      "text/plain": [
       "              Auto_Name                                          Auto_URL  \\\n",
       "count               943                                               943   \n",
       "unique              169                                               943   \n",
       "top     Volkswagen Polo  https://pushkino.drom.ru/lada/2107/50899875.html   \n",
       "freq                 63                                                 1   \n",
       "\n",
       "          Fuel      MileageType  \n",
       "count      943              943  \n",
       "unique       2                1  \n",
       "top     бензин  C пробега по РФ  \n",
       "freq       881              943  "
      ]
     },
     "execution_count": 15,
     "metadata": {},
     "output_type": "execute_result"
    }
   ],
   "source": [
    "df.describe(include=np.object)"
   ]
  },
  {
   "cell_type": "code",
   "execution_count": 16,
   "id": "34943685",
   "metadata": {},
   "outputs": [
    {
     "data": {
      "text/html": [
       "<div>\n",
       "<style scoped>\n",
       "    .dataframe tbody tr th:only-of-type {\n",
       "        vertical-align: middle;\n",
       "    }\n",
       "\n",
       "    .dataframe tbody tr th {\n",
       "        vertical-align: top;\n",
       "    }\n",
       "\n",
       "    .dataframe thead th {\n",
       "        text-align: right;\n",
       "    }\n",
       "</style>\n",
       "<table border=\"1\" class=\"dataframe\">\n",
       "  <thead>\n",
       "    <tr style=\"text-align: right;\">\n",
       "      <th></th>\n",
       "      <th>Year</th>\n",
       "      <th>Price</th>\n",
       "      <th>HorsePower</th>\n",
       "      <th>Mileage</th>\n",
       "    </tr>\n",
       "  </thead>\n",
       "  <tbody>\n",
       "    <tr>\n",
       "      <th>count</th>\n",
       "      <td>943.000000</td>\n",
       "      <td>9.430000e+02</td>\n",
       "      <td>943.000000</td>\n",
       "      <td>943.000000</td>\n",
       "    </tr>\n",
       "    <tr>\n",
       "      <th>mean</th>\n",
       "      <td>2012.539767</td>\n",
       "      <td>1.626419e+06</td>\n",
       "      <td>168.373277</td>\n",
       "      <td>138167.758218</td>\n",
       "    </tr>\n",
       "    <tr>\n",
       "      <th>std</th>\n",
       "      <td>7.925091</td>\n",
       "      <td>1.894003e+06</td>\n",
       "      <td>86.208756</td>\n",
       "      <td>97657.341269</td>\n",
       "    </tr>\n",
       "    <tr>\n",
       "      <th>min</th>\n",
       "      <td>1952.000000</td>\n",
       "      <td>4.500000e+04</td>\n",
       "      <td>45.000000</td>\n",
       "      <td>13.000000</td>\n",
       "    </tr>\n",
       "    <tr>\n",
       "      <th>25%</th>\n",
       "      <td>2008.000000</td>\n",
       "      <td>5.820000e+05</td>\n",
       "      <td>110.000000</td>\n",
       "      <td>72559.000000</td>\n",
       "    </tr>\n",
       "    <tr>\n",
       "      <th>50%</th>\n",
       "      <td>2014.000000</td>\n",
       "      <td>1.199000e+06</td>\n",
       "      <td>150.000000</td>\n",
       "      <td>119788.000000</td>\n",
       "    </tr>\n",
       "    <tr>\n",
       "      <th>75%</th>\n",
       "      <td>2019.000000</td>\n",
       "      <td>1.950000e+06</td>\n",
       "      <td>194.000000</td>\n",
       "      <td>188050.000000</td>\n",
       "    </tr>\n",
       "    <tr>\n",
       "      <th>max</th>\n",
       "      <td>2023.000000</td>\n",
       "      <td>2.450000e+07</td>\n",
       "      <td>625.000000</td>\n",
       "      <td>999999.000000</td>\n",
       "    </tr>\n",
       "  </tbody>\n",
       "</table>\n",
       "</div>"
      ],
      "text/plain": [
       "              Year         Price  HorsePower        Mileage\n",
       "count   943.000000  9.430000e+02  943.000000     943.000000\n",
       "mean   2012.539767  1.626419e+06  168.373277  138167.758218\n",
       "std       7.925091  1.894003e+06   86.208756   97657.341269\n",
       "min    1952.000000  4.500000e+04   45.000000      13.000000\n",
       "25%    2008.000000  5.820000e+05  110.000000   72559.000000\n",
       "50%    2014.000000  1.199000e+06  150.000000  119788.000000\n",
       "75%    2019.000000  1.950000e+06  194.000000  188050.000000\n",
       "max    2023.000000  2.450000e+07  625.000000  999999.000000"
      ]
     },
     "execution_count": 16,
     "metadata": {},
     "output_type": "execute_result"
    }
   ],
   "source": [
    "df.describe()"
   ]
  },
  {
   "cell_type": "markdown",
   "id": "ca97fc42",
   "metadata": {},
   "source": [
    "### Визуальный анализ"
   ]
  },
  {
   "cell_type": "code",
   "execution_count": 17,
   "id": "b261e368",
   "metadata": {},
   "outputs": [
    {
     "data": {
      "image/png": "[encoded data removed]",
      "text/plain": [
       "<Figure size 864x432 with 1 Axes>"
      ]
     },
     "metadata": {},
     "output_type": "display_data"
    }
   ],
   "source": [
    ".value_counts().plot(kind='barh', figsize = (12, 6))\n",
    "plt.title('Кол-во машин по топливу')\n",
    "plt.show()"
   ]
  },
  {
   "cell_type": "markdown",
   "id": "5891e308",
   "metadata": {},
   "source": [
    "### На диаграме видно что бензиновых машин в 14 раз больше чем дизельных"
   ]
  },
  {
   "cell_type": "code",
   "execution_count": 29,
   "id": "3bf7f40f",
   "metadata": {},
   "outputs": [
    {
     "data": {
      "image/png": "[encoded data removed]",
      "text/plain": [
       "<Figure size 2000x1000 with 1 Axes>"
      ]
     },
     "metadata": {},
     "output_type": "display_data"
    }
   ],
   "source": [
    "df[ df['Fuel']=='бензин' ].boxplot(by='Year', column = 'Price',\n",
    "          figsize = (20, 10))\n",
    "plt.title('Цены на машины (с бензином) по годам')\n",
    "plt.show()"
   ]
  },
  {
   "cell_type": "markdown",
   "id": "41a2b380",
   "metadata": {},
   "source": [
    "### Из графика можно сделать вывод что чем новее машина тем она дороже"
   ]
  },
  {
   "cell_type": "code",
   "execution_count": 21,
   "id": "8b475017",
   "metadata": {},
   "outputs": [
    {
     "data": {
      "text/plain": [
       "(array([ 21., 133., 232., 172., 116., 117.,  28.,  38.,  13.,  23.,   6.,\n",
       "         12.,   6.,   9.,   5.,   3.,   4.,   0.,   2.,   3.]),\n",
       " array([ 45.,  74., 103., 132., 161., 190., 219., 248., 277., 306., 335.,\n",
       "        364., 393., 422., 451., 480., 509., 538., 567., 596., 625.]),\n",
       " <BarContainer object of 20 artists>)"
      ]
     },
     "execution_count": 21,
     "metadata": {},
     "output_type": "execute_result"
    },
    {
     "data": {
      "image/png": "[encoded data removed]",
      "text/plain": [
       "<Figure size 432x288 with 1 Axes>"
      ]
     },
     "metadata": {},
     "output_type": "display_data"
    }
   ],
   "source": [
    "plt.hist(df['HorsePower'], bins = 20)"
   ]
  },
  {
   "cell_type": "markdown",
   "id": "f60531c0",
   "metadata": {},
   "source": [
    "### Из графика можно заметить что большинство машин имеют 150 лошадиных сил"
   ]
  },
  {
   "cell_type": "code",
   "execution_count": 26,
   "id": "7a884e22",
   "metadata": {},
   "outputs": [
    {
     "data": {
      "image/png": "[encoded data removed]",
      "text/plain": [
       "<Figure size 720x360 with 1 Axes>"
      ]
     },
     "metadata": {},
     "output_type": "display_data"
    }
   ],
   "source": [
    "df.boxplot(by='Fuel', column = 'Price',\n",
    "          figsize = (10, 5))\n",
    "plt.title('Цены на машины в зависимости от типа топлива')\n",
    "plt.show()"
   ]
  },
  {
   "cell_type": "markdown",
   "id": "8fbfff04",
   "metadata": {},
   "source": [
    "### Из вышеприведенного графика можно сделать вывод, что большинство машин с типом топлива бензин дешевле чем машины на дизельном топливе."
   ]
  },
  {
   "cell_type": "code",
   "execution_count": 27,
   "id": "176dd690",
   "metadata": {},
   "outputs": [
    {
     "data": {
      "text/plain": [
       "(array([ 99., 112., 176., 146., 107., 109.,  59.,  48.,  30.,  14.,  24.,\n",
       "          7.,   2.,   3.,   4.,   0.,   1.,   0.,   0.,   1.,   0.,   0.,\n",
       "          0.,   0.,   0.,   0.,   0.,   0.,   0.,   1.]),\n",
       " array([1.30000000e+01, 3.33458667e+04, 6.66787333e+04, 1.00011600e+05,\n",
       "        1.33344467e+05, 1.66677333e+05, 2.00010200e+05, 2.33343067e+05,\n",
       "        2.66675933e+05, 3.00008800e+05, 3.33341667e+05, 3.66674533e+05,\n",
       "        4.00007400e+05, 4.33340267e+05, 4.66673133e+05, 5.00006000e+05,\n",
       "        5.33338867e+05, 5.66671733e+05, 6.00004600e+05, 6.33337467e+05,\n",
       "        6.66670333e+05, 7.00003200e+05, 7.33336067e+05, 7.66668933e+05,\n",
       "        8.00001800e+05, 8.33334667e+05, 8.66667533e+05, 9.00000400e+05,\n",
       "        9.33333267e+05, 9.66666133e+05, 9.99999000e+05]),\n",
       " <BarContainer object of 30 artists>)"
      ]
     },
     "execution_count": 27,
     "metadata": {},
     "output_type": "execute_result"
    },
    {
     "data": {
      "image/png": "[encoded data removed]",
      "text/plain": [
       "<Figure size 432x288 with 1 Axes>"
      ]
     },
     "metadata": {},
     "output_type": "display_data"
    }
   ],
   "source": [
    "plt.hist(df['Mileage'], bins = 30)"
   ]
  },
  {
   "cell_type": "markdown",
   "id": "b9c5d1e4",
   "metadata": {},
   "source": [
    "### Из графика можно сделать вывод что большинство машин имеют пробег в районе 200000"
   ]
  },
  {
   "cell_type": "code",
   "execution_count": 29,
   "id": "369d38b5",
   "metadata": {},
   "outputs": [
    {
     "data": {
      "image/png": "[encoded data removed]",
      "text/plain": [
       "<Figure size 1440x720 with 1 Axes>"
      ]
     },
     "metadata": {},
     "output_type": "display_data"
    }
   ],
   "source": [
    "plt.figure(figsize = (20, 10))\n",
    "plt.scatter(df.Price, df.Mileage)\n",
    "plt.show()"
   ]
  },
  {
   "cell_type": "markdown",
   "id": "09b81c60",
   "metadata": {},
   "source": [
    "### Из графика можно сделать вывод что чем меньше пробег тем больше цена."
   ]
  },
  {
   "cell_type": "code",
   "execution_count": 30,
   "id": "34f632b7",
   "metadata": {},
   "outputs": [
    {
     "data": {
      "image/png": "[encoded data removed]",
      "text/plain": [
       "<Figure size 720x432 with 1 Axes>"
      ]
     },
     "metadata": {},
     "output_type": "display_data"
    }
   ],
   "source": [
    "top = df.groupby('Auto_Name').Price.count().nlargest(10)\n",
    "top = pd.DataFrame(data = top)\n",
    "top = top.reset_index()\n",
    "top = list(top['Auto_Name'])\n",
    "top = df[df['Auto_Name'].isin(top)]\n",
    "sns_plot = sns.kdeplot(data=top, x='Price', hue='Auto_Name')\n",
    "fig = sns_plot.get_figure()\n",
    "fig.set_figheight(6)\n",
    "fig.set_figwidth(10)"
   ]
  }
 ],
 "metadata": {
  "kernelspec": {
   "display_name": "Python 3 (ipykernel)",
   "language": "python",
   "name": "python3"
  },
  "language_info": {
   "codemirror_mode": {
    "name": "ipython",
    "version": 3
   },
   "file_extension": ".py",
   "mimetype": "text/x-python",
   "name": "python",
   "nbconvert_exporter": "python",
   "pygments_lexer": "ipython3",
   "version": "3.9.7"
  }
 },
 "nbformat": 4,
 "nbformat_minor": 5
}
